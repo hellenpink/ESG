{
 "cells": [
  {
   "cell_type": "code",
   "execution_count": 1,
   "metadata": {},
   "outputs": [
    {
     "name": "stderr",
     "output_type": "stream",
     "text": [
      "/Users/hellenqian/opt/anaconda3/lib/python3.9/site-packages/pandas/core/computation/expressions.py:21: UserWarning: Pandas requires version '2.8.4' or newer of 'numexpr' (version '2.7.3' currently installed).\n",
      "  from pandas.core.computation.check import NUMEXPR_INSTALLED\n",
      "/Users/hellenqian/opt/anaconda3/lib/python3.9/site-packages/pandas/core/arrays/masked.py:60: UserWarning: Pandas requires version '1.3.6' or newer of 'bottleneck' (version '1.3.2' currently installed).\n",
      "  from pandas.core import (\n"
     ]
    }
   ],
   "source": [
    "from jupyter_dash import JupyterDash\n",
    "from dash import dcc, html\n",
    "import pandas as pd\n",
    "import plotly.express as px\n",
    "import plotly.graph_objs as go\n",
    "from dash.dependencies import Input, Output\n",
    "from sklearn.tree import DecisionTreeRegressor, plot_tree\n",
    "import matplotlib.pyplot as plt\n",
    "import io\n",
    "import numpy as np\n",
    "import base64"
   ]
  },
  {
   "cell_type": "code",
   "execution_count": 2,
   "metadata": {},
   "outputs": [
    {
     "name": "stderr",
     "output_type": "stream",
     "text": [
      "/Users/hellenqian/opt/anaconda3/lib/python3.9/site-packages/dash/dash.py:585: UserWarning:\n",
      "\n",
      "JupyterDash is deprecated, use Dash instead.\n",
      "See https://dash.plotly.com/dash-in-jupyter for more details.\n",
      "\n"
     ]
    }
   ],
   "source": [
    "colors = {\n",
    "    'background': '#F5F5F5',\n",
    "    'text': '#4A4A4A',\n",
    "    'forest_green': '#2C5F2D',\n",
    "    'ocean_blue': '#1D4E89',\n",
    "    'light_gray_green': '#A4C3A3',\n",
    "    'light_blue_gray': '#8FAFC0',\n",
    "    'orange': '#F28C28',\n",
    "    'lemon_yellow': '#FFD700',\n",
    "}\n",
    "\n",
    "df = pd.read_csv('./data.csv')\n",
    "# 数据预处理：移除空值\n",
    "df = df.dropna(subset=['Sector', 'Total ESG Risk score', 'Environment Risk Score', 'Governance Risk Score', 'Social Risk Score'])\n",
    "\n",
    "# 创建 Dash 应用\n",
    "app = JupyterDash(__name__)"
   ]
  },
  {
   "cell_type": "code",
   "execution_count": 3,
   "metadata": {},
   "outputs": [],
   "source": [
    "app.layout = html.Div(style={'backgroundColor': colors['background']}, children=[\n",
    "    html.H1(children='ESG Score Analysis', style={'textAlign': 'center', 'color': colors['text']}),\n",
    "\n",
    "    # Center the dropdown with a fixed width\n",
    "    html.Div(\n",
    "        dcc.Dropdown(\n",
    "            id='sector-dropdown',\n",
    "            options=[{'label': sector, 'value': sector} for sector in df['Sector'].unique()],\n",
    "            value=df['Sector'].unique()[0],\n",
    "            style={\n",
    "                'color': colors['text'],\n",
    "                'width': '300px',  # Set the width of the dropdown\n",
    "                'margin': '0 auto'  # Center the dropdown\n",
    "            },\n",
    "        ),\n",
    "        style={'textAlign': 'center'}  # Center the container\n",
    "    ),\n",
    "\n",
    "    dcc.Graph(id='esg-bar-chart'),\n",
    "    dcc.Graph(id='esg-3d-scatter-chart'),\n",
    "    dcc.Graph(id='esg-extreme-value-chart'),\n",
    "\n",
    "    html.Div(children=[\n",
    "        dcc.Link('Back to Home', href='/'),\n",
    "        html.Br(),\n",
    "        dcc.Link('View Other Analyses', href='/other-analysis')\n",
    "    ], style={'textAlign': 'center', 'color': colors['text']}),\n",
    "]) "
   ]
  },
  {
   "cell_type": "code",
   "execution_count": 4,
   "metadata": {},
   "outputs": [],
   "source": [
    "\n",
    "# Callback for the bar chart\n",
    "@app.callback(\n",
    "    Output('esg-bar-chart', 'figure'),\n",
    "    Input('sector-dropdown', 'value')\n",
    ")\n",
    "def update_bar_graph(selected_sector):\n",
    "    # Filter data based on selected sector\n",
    "    filtered_df = df[df['Sector'] == selected_sector]\n",
    "\n",
    "    # Create stacked bar chart\n",
    "    fig = go.Figure()\n",
    "\n",
    "    # Add environmental score\n",
    "    fig.add_trace(go.Bar(\n",
    "        x=filtered_df['Name'],\n",
    "        y=filtered_df['Environment Risk Score'],\n",
    "        name='Environment Score',\n",
    "        marker_color=colors['forest_green'],\n",
    "    ))\n",
    "\n",
    "    # Add governance score\n",
    "    fig.add_trace(go.Bar(\n",
    "        x=filtered_df['Name'],\n",
    "        y=filtered_df['Governance Risk Score'],\n",
    "        name='Governance Score',\n",
    "        marker_color=colors['orange'],\n",
    "    ))\n",
    "\n",
    "    # Add social score\n",
    "    fig.add_trace(go.Bar(\n",
    "        x=filtered_df['Name'],\n",
    "        y=filtered_df['Social Risk Score'],\n",
    "        name='Social Score',\n",
    "        marker_color=colors['ocean_blue'],\n",
    "    ))\n",
    "\n",
    "    # Update layout\n",
    "    fig.update_layout(\n",
    "        title=f'ESG Scores for {selected_sector} Sector',\n",
    "        xaxis_title='Company',\n",
    "        yaxis_title='Score',\n",
    "        barmode='stack',\n",
    "        plot_bgcolor=colors['background'],\n",
    "        paper_bgcolor=colors['background'],\n",
    "        font=dict(color=colors['text']),\n",
    "    )\n",
    "\n",
    "    return fig\n",
    "\n",
    "# Callback for the 3D scatter chart\n",
    "@app.callback(\n",
    "    Output('esg-3d-scatter-chart', 'figure'),\n",
    "    Input('sector-dropdown', 'value')\n",
    ")\n",
    "def update_3d_scatter_graph(selected_sector):\n",
    "    # Filter data based on selected sector\n",
    "    filtered_df = df[df['Sector'] == selected_sector]\n",
    "\n",
    "    # Ensure there is enough data to plot\n",
    "    if filtered_df.empty:\n",
    "        return go.Figure()\n",
    "\n",
    "    # Create 3D scatter chart\n",
    "    fig = px.scatter_3d(\n",
    "        filtered_df,\n",
    "        x='Environment Risk Score',\n",
    "        y='Governance Risk Score',\n",
    "        z='Social Risk Score',\n",
    "        color='Total ESG Risk score',\n",
    "        labels={\n",
    "            'Environment Risk Score': 'Environment Risk Score',\n",
    "            'Governance Risk Score': 'Governance Risk Score',\n",
    "            'Social Risk Score': 'Social Risk Score',\n",
    "            'Total ESG Risk score': 'Total ESG Risk Score'\n",
    "        },\n",
    "        title=f'3D Scatter Plot of ESG Scores for {selected_sector} Sector',\n",
    "        hover_name='Name'  # 显示公司名称作为悬浮提示\n",
    "    )\n",
    "\n",
    "    fig.update_traces(marker=dict(size=5))  # 调整标记大小\n",
    "    fig.update_layout(\n",
    "        plot_bgcolor=colors['background'],\n",
    "        paper_bgcolor=colors['background'],\n",
    "        font=dict(color=colors['text']),\n",
    "    )\n",
    "\n",
    "    return fig\n",
    "\n",
    "# 其他分析图的回调函数\n",
    "# 示例：添加极值分析的柱状图回调\n",
    "@app.callback(\n",
    "    Output('esg-extreme-value-chart', 'figure'),\n",
    "    Input('sector-dropdown', 'value')\n",
    ")\n",
    "def update_extreme_value_chart(selected_sector):\n",
    "    # 过滤数据\n",
    "    filtered_df = df[df['Sector'] == selected_sector]\n",
    "\n",
    "    # 计算极值\n",
    "    extreme_values = filtered_df[['Name', 'Total ESG Risk score']].copy()\n",
    "    extreme_values['is_extreme'] = extreme_values['Total ESG Risk score'].abs() > extreme_values['Total ESG Risk score'].mean() + 2 * extreme_values['Total ESG Risk score'].std()\n",
    "\n",
    "    # 创建极值柱状图\n",
    "    fig = go.Figure(data=[go.Bar(\n",
    "        x=extreme_values['Name'][extreme_values['is_extreme']],\n",
    "        y=extreme_values['Total ESG Risk score'][extreme_values['is_extreme']],\n",
    "        marker_color=colors['lemon_yellow'],\n",
    "    )])\n",
    "\n",
    "    # 更新布局\n",
    "    fig.update_layout(\n",
    "        title=f'Extreme ESG Scores for {selected_sector} Sector',\n",
    "        xaxis_title='Company',\n",
    "        yaxis_title='Total ESG Risk Score',\n",
    "        plot_bgcolor=colors['background'],\n",
    "        paper_bgcolor=colors['background'],\n",
    "        font=dict(color=colors['text']),\n",
    "    )\n",
    "\n",
    "    return fig"
   ]
  },
  {
   "cell_type": "code",
   "execution_count": 5,
   "metadata": {},
   "outputs": [
    {
     "data": {
      "text/html": [
       "\n",
       "        <iframe\n",
       "            width=\"100%\"\n",
       "            height=\"650\"\n",
       "            src=\"http://127.0.0.1:8050/\"\n",
       "            frameborder=\"0\"\n",
       "            allowfullscreen\n",
       "            \n",
       "        ></iframe>\n",
       "        "
      ],
      "text/plain": [
       "<IPython.lib.display.IFrame at 0x7fc1a8908520>"
      ]
     },
     "metadata": {},
     "output_type": "display_data"
    },
    {
     "name": "stdout",
     "output_type": "stream",
     "text": [
      "Dash app running on http://127.0.0.1:8050/\n"
     ]
    }
   ],
   "source": [
    "if __name__ == '__main__':\n",
    "    app.run_server(debug=True)"
   ]
  },
  {
   "cell_type": "code",
   "execution_count": null,
   "metadata": {},
   "outputs": [],
   "source": []
  }
 ],
 "metadata": {
  "kernelspec": {
   "display_name": "base",
   "language": "python",
   "name": "python3"
  },
  "language_info": {
   "codemirror_mode": {
    "name": "ipython",
    "version": 3
   },
   "file_extension": ".py",
   "mimetype": "text/x-python",
   "name": "python",
   "nbconvert_exporter": "python",
   "pygments_lexer": "ipython3",
   "version": "3.9.7"
  }
 },
 "nbformat": 4,
 "nbformat_minor": 2
}
